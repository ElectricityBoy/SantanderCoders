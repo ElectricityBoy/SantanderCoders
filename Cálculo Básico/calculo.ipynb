{
 "cells": [
  {
   "cell_type": "markdown",
   "metadata": {},
   "source": [
    "### Cálculo Básico"
   ]
  },
  {
   "cell_type": "markdown",
   "metadata": {},
   "source": [
    "- [ ] Produto Cartesiano\n",
    "  \n",
    "  Multiplicação distribuitiva entre os elementos de cada conjunto.\n",
    "\n",
    "  Função: Uma relação que satisfaz propriedades matemáticas $$R \\ -> \t\\exists \\  A \t\\exists B$$\n",
    "\n",
    "  - [ ] Funções\n",
    "  \n",
    "  Injetora: Os elementos da imagem recebem uma única relação\n",
    "  \n",
    "  Sobrejetoras: Os elementos da imagem podem receber relações distintas do domínio\n",
    "\n",
    "  Função par: $$f(-x) = f(x)$$\n",
    "\n",
    "  Funçãi ímpar: $$f(-x) = -f(x)$$\n",
    "\n",
    "  Função Inversa\n",
    "  Para uma função ser invertível, a função tem que ser Bijetora \n",
    "  \n",
    "  ![Alt text](image.png)"
   ]
  },
  {
   "cell_type": "markdown",
   "metadata": {},
   "source": []
  },
  {
   "cell_type": "code",
   "execution_count": null,
   "metadata": {
    "vscode": {
     "languageId": "plaintext"
    }
   },
   "outputs": [],
   "source": []
  }
 ],
 "metadata": {
  "language_info": {
   "name": "python"
  },
  "orig_nbformat": 4
 },
 "nbformat": 4,
 "nbformat_minor": 2
}
