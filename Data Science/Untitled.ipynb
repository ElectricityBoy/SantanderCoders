{
 "cells": [
  {
   "cell_type": "markdown",
   "id": "d29a0bbc",
   "metadata": {},
   "source": [
    "## Estudando Data Science"
   ]
  },
  {
   "cell_type": "markdown",
   "id": "02590778",
   "metadata": {},
   "source": [
    "### Numpy"
   ]
  },
  {
   "cell_type": "code",
   "execution_count": 1,
   "id": "cbfc8658",
   "metadata": {},
   "outputs": [],
   "source": [
    "# Importando bibioteca\n",
    "import numpy as np"
   ]
  },
  {
   "cell_type": "code",
   "execution_count": 5,
   "id": "e4e25e71",
   "metadata": {},
   "outputs": [
    {
     "name": "stdout",
     "output_type": "stream",
     "text": [
      "[1, 1, 1, 1, 1, 1] [1 1 1 1 1 1]\n"
     ]
    }
   ],
   "source": [
    "lista = [1,1,1,1,1,1]\n",
    "array = np.array(lista)\n",
    "\n",
    "print(lista,array)"
   ]
  },
  {
   "cell_type": "code",
   "execution_count": 6,
   "id": "8b72acd6",
   "metadata": {
    "scrolled": true
   },
   "outputs": [
    {
     "data": {
      "text/plain": [
       "array([0., 0., 0., 0.])"
      ]
     },
     "execution_count": 6,
     "metadata": {},
     "output_type": "execute_result"
    }
   ],
   "source": [
    "#Criar uma array de zeros\n",
    "np.zeros(4)"
   ]
  },
  {
   "cell_type": "code",
   "execution_count": 10,
   "id": "d6ebf530",
   "metadata": {
    "scrolled": true
   },
   "outputs": [
    {
     "data": {
      "text/plain": [
       "array([[0., 0., 0.],\n",
       "       [0., 0., 0.],\n",
       "       [0., 0., 0.],\n",
       "       [0., 0., 0.],\n",
       "       [0., 0., 0.]])"
      ]
     },
     "execution_count": 10,
     "metadata": {},
     "output_type": "execute_result"
    }
   ],
   "source": [
    "#Matrizes\n",
    "# (Linhas,Colunas)\n",
    "np.zeros((5,3))"
   ]
  },
  {
   "cell_type": "code",
   "execution_count": 15,
   "id": "8615e06f",
   "metadata": {},
   "outputs": [
    {
     "name": "stdout",
     "output_type": "stream",
     "text": [
      "Desvio padrão 1.632993161855452\n",
      "Média 5.0\n",
      "Posição menor 1\n"
     ]
    }
   ],
   "source": [
    "# Operações matemáticas\n",
    "lista_notas = [5,3,7]\n",
    "notas= np.array(lista_notas)\n",
    "print('Desvio padrão', notas.std())\n",
    "print('Média',notas.mean())\n",
    "print('Posição menor', notas.argmin())"
   ]
  },
  {
   "cell_type": "code",
   "execution_count": 29,
   "id": "fecfcf75",
   "metadata": {},
   "outputs": [
    {
     "data": {
      "text/plain": [
       "array([2., 2.])"
      ]
     },
     "execution_count": 29,
     "metadata": {},
     "output_type": "execute_result"
    }
   ],
   "source": [
    "notas = np.zeros(2)\n",
    "for i in range(len(notas)):\n",
    "    notas[i] = 2\n",
    "    \n",
    "notas"
   ]
  },
  {
   "cell_type": "markdown",
   "id": "948d7148",
   "metadata": {},
   "source": [
    "### Máscara Booleana"
   ]
  }
 ],
 "metadata": {
  "kernelspec": {
   "display_name": "Python 3 (ipykernel)",
   "language": "python",
   "name": "python3"
  },
  "language_info": {
   "codemirror_mode": {
    "name": "ipython",
    "version": 3
   },
   "file_extension": ".py",
   "mimetype": "text/x-python",
   "name": "python",
   "nbconvert_exporter": "python",
   "pygments_lexer": "ipython3",
   "version": "3.9.5"
  }
 },
 "nbformat": 4,
 "nbformat_minor": 5
}
