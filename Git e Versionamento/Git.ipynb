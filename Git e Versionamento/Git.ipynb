{
 "cells": [
  {
   "cell_type": "markdown",
   "metadata": {},
   "source": [
    "## Git e Versionamento"
   ]
  },
  {
   "cell_type": "markdown",
   "metadata": {},
   "source": [
    "#### Versionamento \n",
    "- Registro de mudanças em arquivos, que possibilita a recuperação ou acesso a versões anteriores\n",
    "- Desenvolvimento de código em colaboração com outros integrantes\n",
    "\n",
    "Git é um sistema de versionamento de código que guarda os registro de versão como snapshots do estado do projeto."
   ]
  },
  {
   "cell_type": "markdown",
   "metadata": {},
   "source": [
    "#### Estados do Git\n",
    "\n",
    "![Alt text](image.png)\n"
   ]
  },
  {
   "cell_type": "markdown",
   "metadata": {},
   "source": [
    "### Comandos git\n",
    "\n",
    "- git init - iniciar um arquivo git\n",
    "- git add . - incluir arquivos para o versionamento\n",
    "- git commit -m \"comentário\" - snapshot\n",
    "- git diff - novas diferenças\n",
    "- git log\n",
    "- git restore\n"
   ]
  },
  {
   "cell_type": "code",
   "execution_count": null,
   "metadata": {
    "vscode": {
     "languageId": "plaintext"
    }
   },
   "outputs": [],
   "source": []
  },
  {
   "cell_type": "code",
   "execution_count": null,
   "metadata": {
    "vscode": {
     "languageId": "plaintext"
    }
   },
   "outputs": [],
   "source": []
  }
 ],
 "metadata": {
  "language_info": {
   "name": "python"
  },
  "orig_nbformat": 4
 },
 "nbformat": 4,
 "nbformat_minor": 2
}
