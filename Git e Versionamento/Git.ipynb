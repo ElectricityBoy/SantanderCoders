{
 "cells": [
  {
   "cell_type": "markdown",
   "metadata": {},
   "source": [
    "## Git e Versionamento"
   ]
  },
  {
   "cell_type": "markdown",
   "metadata": {},
   "source": [
    "#### Versionamento \n",
    "- Registro de mudanças em arquivos, que possibilita a recuperação ou acesso a versões anteriores\n",
    "- Desenvolvimento de código em colaboração com outros integrantes\n",
    "\n",
    "Git é um sistema de versionamento de código que guarda os registro de versão como snapshots do estado do projeto."
   ]
  },
  {
   "cell_type": "markdown",
   "metadata": {},
   "source": [
    "#### Estados do Git\n",
    "\n",
    "![Alt text](image.png)\n"
   ]
  },
  {
   "cell_type": "markdown",
   "metadata": {},
   "source": [
    "### Comandos git\n",
    "\n",
    "- git init - iniciar um arquivo git\n",
    "- git add . - incluir arquivos para o versionamento\n",
    "- git commit -m \"comentário\" - snapshot\n",
    "- git diff - novas diferenças\n",
    "- git log - aparece o log com todas as commits\n",
    "- git restore - remover modificação se comparado para o ultimo snapshot\n"
   ]
  },
  {
   "cell_type": "markdown",
   "metadata": {},
   "source": [
    "### Repositórios Remotos\n",
    "\n",
    "git pull - atualiza o local com a mudança remota\n",
    "\n",
    "git fetch - compara os repositorios antes de sincronizar. se usar o git diff da pra visualizar\n",
    "\n",
    "git checkout **nome do branch**\n",
    "\n",
    "usado para ir para uma branch diferente e trabalhar paralelamente\n",
    "\n",
    "git merge **branch**"
   ]
  },
  {
   "cell_type": "markdown",
   "metadata": {},
   "source": [
    "git ignore"
   ]
  },
  {
   "cell_type": "code",
   "execution_count": null,
   "metadata": {
    "vscode": {
     "languageId": "plaintext"
    }
   },
   "outputs": [],
   "source": []
  }
 ],
 "metadata": {
  "language_info": {
   "name": "python"
  },
  "orig_nbformat": 4
 },
 "nbformat": 4,
 "nbformat_minor": 2
}
